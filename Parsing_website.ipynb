{
 "cells": [
  {
   "cell_type": "code",
   "execution_count": 2,
   "metadata": {},
   "outputs": [],
   "source": [
    "from lxml.html import parse\n",
    "import urllib\n",
    "from urllib.request import Request, urlopen\n",
    "url = Request('https://www.prnewswire.com/news-releases/news-releases-list/', headers={'User-Agent': 'Mozilla/5.0'})\n",
    "page = urlopen(url)\n",
    "parsed = parse(page)\n",
    "doc = parsed.getroot()"
   ]
  },
  {
   "cell_type": "code",
   "execution_count": 3,
   "metadata": {},
   "outputs": [
    {
     "data": {
      "text/plain": [
       "lxml.html.HtmlElement"
      ]
     },
     "execution_count": 3,
     "metadata": {},
     "output_type": "execute_result"
    }
   ],
   "source": [
    "type(doc)"
   ]
  },
  {
   "cell_type": "code",
   "execution_count": 4,
   "metadata": {},
   "outputs": [
    {
     "name": "stdout",
     "output_type": "stream",
     "text": [
      "['/resources/', 'https://www.cision.com/us/blog/', 'https://prnmedia.prnewswire.com/', 'https://portal.prnewswire.com/Login.aspx', 'https://www.prnewswire.com/account/online-membership-form/', 'https://gdpr.cision.com/', 'https://portal.prnewswire.com/Login.aspx', '/', '/news-releases/', '/products/overview.html', '/products/overview/', '/products/content-distribution/', '/products/communications-cloud/', '/products/ir-compliance/', '/products/all-products/', '/contact-us/', '/contact-us/#general', '/request-a-demo/', '/contact-us/#editorial', '/contact-us/#partnerships', '/contact-us/#media', '/contact-us/#worldwide', None, '/news-releases/', '/news-releases/news-releases-list/', '/news-releases/all-public-company-news/', '/news-releases/english-releases/', '/news-releases/', '/news-releases/multimedia/', '/news-releases/multimedia/multimedia-list/', '/news-releases/photos/photos-list/', '/news-releases/videos/videos-list/', '/news-releases/multimedia/', '/news-releases/latest-news-topics/', '/news-releases/latest-news-topics/', None, '/news-releases/automotive-transportation-latest-news/', '/news-releases/automotive-transportation-latest-news/automotive-transportation-latest-news-list/', '/news-releases/automotive-transportation-latest-news/aerospace-defense-list/', '/news-releases/automotive-transportation-latest-news/air-freight-list/', '/news-releases/automotive-transportation-latest-news/airlines-aviation-list/', '/news-releases/automotive-transportation-latest-news/automotive-list/', '/news-releases/automotive-transportation-latest-news/maritime-shipbuilding-list/', '/news-releases/automotive-transportation-latest-news/railroads-and-intermodal-transportation-list/', '/news-releases/automotive-transportation-latest-news/supply-chain-logistics-list/', '/news-releases/automotive-transportation-latest-news/transportation-trucking-railroad-list/', '/news-releases/automotive-transportation-latest-news/travel-list/', '/news-releases/automotive-transportation-latest-news/trucking-and-road-transportation-list/', '/news-releases/automotive-transportation-latest-news/', '/news-releases/business-technology-latest-news/', '/news-releases/business-technology-latest-news/business-technology-latest-news-list/', '/news-releases/business-technology-latest-news/blockchain-list/', '/news-releases/business-technology-latest-news/broadcast-tech-list/', '/news-releases/business-technology-latest-news/computer-electronics-list/', '/news-releases/business-technology-latest-news/computer-hardware-list/', '/news-releases/business-technology-latest-news/computer-software-list/', '/news-releases/business-technology-latest-news/data-analytics-list/', '/news-releases/business-technology-latest-news/electronic-commerce-list/', '/news-releases/business-technology-latest-news/electronic-components-list/', '/news-releases/business-technology-latest-news/electronic-design-automation-list/', '/news-releases/business-technology-latest-news/financial-technology-list/', '/news-releases/business-technology-latest-news/high-tech-security-list/', '/news-releases/business-technology-latest-news/internet-technology-list/', '/news-releases/business-technology-latest-news/nanotechnology-list/', '/news-releases/business-technology-latest-news/networks-list/', '/news-releases/business-technology-latest-news/peripherals-list/', '/news-releases/business-technology-latest-news/semiconductors-list/', '/news-releases/business-technology-latest-news/', '/news-releases/entertainment-media-latest-news/', '/news-releases/entertainment-media-latest-news/entertainment-media-latest-news-list/', '/news-releases/entertainment-media-latest-news/advertising-list/', '/news-releases/entertainment-media-latest-news/art-list/', '/news-releases/entertainment-media-latest-news/books-list/', '/news-releases/entertainment-media-latest-news/entertainment-list/', '/news-releases/entertainment-media-latest-news/film-and-motion-picture-list/', '/news-releases/entertainment-media-latest-news/magazines-list/', '/news-releases/entertainment-media-latest-news/music-list/', '/news-releases/entertainment-media-latest-news/publishing-information-services-list/', '/news-releases/entertainment-media-latest-news/radio-list/', '/news-releases/entertainment-media-latest-news/television-list/', '/news-releases/entertainment-media-latest-news/', '/news-releases/financial-services-latest-news/', '/news-releases/financial-services-latest-news/financial-services-latest-news-list/', '/news-releases/financial-services-latest-news/accounting-news-issues-list/', '/news-releases/financial-services-latest-news/acquisitions-mergers-and-takeovers-list/', '/news-releases/financial-services-latest-news/banking-financial-services-list/', '/news-releases/financial-services-latest-news/bankruptcy-list/', '/news-releases/financial-services-latest-news/bond-stock-ratings-list/', '/news-releases/financial-services-latest-news/conference-call-announcements-list/', '/news-releases/financial-services-latest-news/contracts-list/', '/news-releases/financial-services-latest-news/cryptocurrency-list/', '/news-releases/financial-services-latest-news/dividends-list/', '/news-releases/financial-services-latest-news/earnings-list/', '/news-releases/financial-services-latest-news/earnings-forecasts-projections-list/', '/news-releases/financial-services-latest-news/financing-agreements-list/', '/news-releases/financial-services-latest-news/insurance-list/', '/news-releases/financial-services-latest-news/investment-opinions-list/', '/news-releases/financial-services-latest-news/joint-ventures-list/', '/news-releases/financial-services-latest-news/mutual-funds-list/', '/news-releases/financial-services-latest-news/private-placement-list/', '/news-releases/financial-services-latest-news/real-estate-list/', '/news-releases/financial-services-latest-news/restructuring-recapitalization-list/', '/news-releases/financial-services-latest-news/sales-reports-list/', '/news-releases/financial-services-latest-news/shareholder-activism-list/', '/news-releases/financial-services-latest-news/stock-offering-list/', '/news-releases/financial-services-latest-news/stock-split-list/', '/news-releases/financial-services-latest-news/venture-capital-list/', '/news-releases/financial-services-latest-news/', '/news-releases/general-business-latest-news/', '/news-releases/general-business-latest-news/general-business-latest-news-list/', '/news-releases/general-business-latest-news/awards-list/', '/news-releases/general-business-latest-news/commercial-real-estate-list/', '/news-releases/general-business-latest-news/corporate-expansion-list/', '/news-releases/general-business-latest-news/earnings-list/', '/news-releases/general-business-latest-news/human-resource-workforce-management-list/', '/news-releases/general-business-latest-news/licensing-list/', '/news-releases/general-business-latest-news/new-products-services-list/', '/news-releases/general-business-latest-news/obituaries-list/', '/news-releases/general-business-latest-news/outsourcing-businesses-list/', '/news-releases/general-business-latest-news/overseas-real-estate-list/', '/news-releases/general-business-latest-news/personnel-announcements-list/', '/news-releases/general-business-latest-news/real-estate-transactions-list/', '/news-releases/general-business-latest-news/residential-real-estate-list/', '/news-releases/general-business-latest-news/small-business-services-list/', '/news-releases/general-business-latest-news/socially-responsible-investing-list/', '/news-releases/general-business-latest-news/surveys-polls-and-research-list/', '/news-releases/general-business-latest-news/trade-show-news-list/', '/news-releases/general-business-latest-news/', None, '/news-releases/consumer-technology-latest-news/', '/news-releases/consumer-technology-latest-news/consumer-technology-latest-news-list/', '/news-releases/consumer-technology-latest-news/artificial-intelligence-list/', '/news-releases/consumer-technology-latest-news/blockchain-list/', '/news-releases/consumer-technology-latest-news/cloud-computing-internet-of-things-list/', '/news-releases/consumer-technology-latest-news/computer-electronics-list/', '/news-releases/consumer-technology-latest-news/computer-hardware-list/', '/news-releases/consumer-technology-latest-news/computer-software-list/', '/news-releases/consumer-technology-latest-news/consumer-electronics-list/', '/news-releases/consumer-technology-latest-news/cryptocurrency-list/', '/news-releases/consumer-technology-latest-news/data-analytics-list/', '/news-releases/consumer-technology-latest-news/electronic-commerce-list/', '/news-releases/consumer-technology-latest-news/electronic-gaming-list/', '/news-releases/consumer-technology-latest-news/financial-technology-list/', '/news-releases/consumer-technology-latest-news/mobile-entertainment-list/', '/news-releases/consumer-technology-latest-news/multimedia-internet-list/', '/news-releases/consumer-technology-latest-news/peripherals-list/', '/news-releases/consumer-technology-latest-news/social-media-list/', '/news-releases/consumer-technology-latest-news/science-tech-engineering-math-list/', '/news-releases/consumer-technology-latest-news/supply-chain-logistics-list/', '/news-releases/consumer-technology-latest-news/wireless-communications-list/', '/news-releases/consumer-technology-latest-news/', '/news-releases/energy-latest-news/', '/news-releases/energy-latest-news/energy-latest-news-list/', '/news-releases/energy-latest-news/alternative-energies-list/', '/news-releases/energy-latest-news/chemical-list/', '/news-releases/energy-latest-news/electrical-utilities-list/', '/news-releases/energy-latest-news/gas-list/', '/news-releases/energy-latest-news/general-manufacturing-list/', '/news-releases/energy-latest-news/mining-list/', '/news-releases/energy-latest-news/mining-metals-list/', '/news-releases/energy-latest-news/oil-energy-list/', '/news-releases/energy-latest-news/oil-and-gas-discoveries-list/', '/news-releases/energy-latest-news/utilities-list/', '/news-releases/energy-latest-news/water-utilities-list/', '/news-releases/energy-latest-news/', '/news-releases/environment-latest-news/', '/news-releases/environment-latest-news/environment-latest-news-list/', '/news-releases/environment-latest-news/conservation-recycling-list/', '/news-releases/environment-latest-news/environmental-issues-list/', '/news-releases/environment-latest-news/environmental-policy-list/', '/news-releases/environment-latest-news/environmental-products-services-list/', '/news-releases/environment-latest-news/green-technology-list/', '/news-releases/environment-latest-news/natural-disasters/', '/news-releases/environment-latest-news/', '/news-releases/heavy-industry-manufacturing-latest-news/', '/news-releases/heavy-industry-manufacturing-latest-news/heavy-industry-manufacturing-latest-news-list/', '/news-releases/heavy-industry-manufacturing-latest-news/aerospace-defense-list/', '/news-releases/heavy-industry-manufacturing-latest-news/agriculture-list/', '/news-releases/heavy-industry-manufacturing-latest-news/chemical-list/', '/news-releases/heavy-industry-manufacturing-latest-news/construction-building-list/', '/news-releases/heavy-industry-manufacturing-latest-news/general-manufacturing-list/', '/news-releases/heavy-industry-manufacturing-latest-news/hvac-list/', '/news-releases/heavy-industry-manufacturing-latest-news/machinery-list/', '/news-releases/heavy-industry-manufacturing-latest-news/machine-tools-metalworking-and-metallury-list/', '/news-releases/heavy-industry-manufacturing-latest-news/mining-list/', '/news-releases/heavy-industry-manufacturing-latest-news/mining-metals-list/', '/news-releases/heavy-industry-manufacturing-latest-news/paper-forest-products-containers-list/', '/news-releases/heavy-industry-manufacturing-latest-news/precious-metals-list/', '/news-releases/heavy-industry-manufacturing-latest-news/textiles-list/', '/news-releases/heavy-industry-manufacturing-latest-news/tobacco-list/', '/news-releases/heavy-industry-manufacturing-latest-news/', '/news-releases/telecommunications-latest-news/', '/news-releases/telecommunications-latest-news/telecommunications-latest-news-list/', '/news-releases/telecommunications-latest-news/carriers-and-services-list/', '/news-releases/telecommunications-latest-news/mobile-entertainment-list/', '/news-releases/telecommunications-latest-news/networks-list/', '/news-releases/telecommunications-latest-news/peripherals-list/', '/news-releases/telecommunications-latest-news/telecommunications-equipment-list/', '/news-releases/telecommunications-latest-news/telecommunications-industry-list/', '/news-releases/telecommunications-latest-news/voip-list/', '/news-releases/telecommunications-latest-news/wireless-communications-list/', '/news-releases/telecommunications-latest-news/', None, '/news-releases/consumer-products-retail-latest-news/', '/news-releases/consumer-products-retail-latest-news/consumer-products-retail-latest-news-list/', '/news-releases/consumer-products-retail-latest-news/animals-pets-list/', '/news-releases/consumer-products-retail-latest-news/beers-wines-and-spirits-list/', '/news-releases/consumer-products-retail-latest-news/beverages-list/', '/news-releases/consumer-products-retail-latest-news/bridal-services-list/', '/news-releases/consumer-products-retail-latest-news/cannabis-list/', '/news-releases/consumer-products-retail-latest-news/cosmetics-and-personal-care-list/', '/news-releases/consumer-products-retail-latest-news/fashion-list/', '/news-releases/consumer-products-retail-latest-news/food-beverages-list/', '/news-releases/consumer-products-retail-latest-news/furniture-and-furnishings-list/', '/news-releases/consumer-products-retail-latest-news/home-improvements-list/', '/news-releases/consumer-products-retail-latest-news/household-consumer-cosmetics-list/', '/news-releases/consumer-products-retail-latest-news/household-products-list/', '/news-releases/consumer-products-retail-latest-news/jewelry-list/', '/news-releases/consumer-products-retail-latest-news/non-alcoholic-beverages-list/', '/news-releases/consumer-products-retail-latest-news/office-products-list/', '/news-releases/consumer-products-retail-latest-news/organic-food-list/', '/news-releases/consumer-products-retail-latest-news/product-recalls-list/', '/news-releases/consumer-products-retail-latest-news/restaurants-list/', '/news-releases/consumer-products-retail-latest-news/retail-list/', '/news-releases/consumer-products-retail-latest-news/supermarkets-list/', '/news-releases/consumer-products-retail-latest-news/toys-list/', '/news-releases/consumer-products-retail-latest-news/', '/news-releases/entertainment-media-latest-news/', '/news-releases/entertainment-media-latest-news/entertainment-media-latest-news-list/', '/news-releases/entertainment-media-latest-news/advertising-list/', '/news-releases/entertainment-media-latest-news/art-list/', '/news-releases/entertainment-media-latest-news/books-list/', '/news-releases/entertainment-media-latest-news/entertainment-list/', '/news-releases/entertainment-media-latest-news/film-and-motion-picture-list/', '/news-releases/entertainment-media-latest-news/magazines-list/', '/news-releases/entertainment-media-latest-news/music-list/', '/news-releases/entertainment-media-latest-news/publishing-information-services-list/', '/news-releases/entertainment-media-latest-news/radio-list/', '/news-releases/entertainment-media-latest-news/television-list/', '/news-releases/entertainment-media-latest-news/', '/news-releases/health-latest-news/', '/news-releases/health-latest-news/health-latest-news-list/', '/news-releases/health-latest-news/biometrics-list/', '/news-releases/health-latest-news/biotechnology-list/', '/news-releases/health-latest-news/clinical-trials-medical-discoveries-list/', '/news-releases/health-latest-news/dentistry-list/', '/news-releases/health-latest-news/fda-approval-list/', '/news-releases/health-latest-news/fitness-wellness-list/', '/news-releases/health-latest-news/health-care-hospitals-list/', '/news-releases/health-latest-news/health-insurance-list/', '/news-releases/health-latest-news/infection-control-list/', '/news-releases/health-latest-news/international-medical-approval-list/', '/news-releases/health-latest-news/medical-equipment-list/', '/news-releases/health-latest-news/medical-pharmaceuticals-list/', '/news-releases/health-latest-news/mental-health-list/', '/news-releases/health-latest-news/pharmaceuticals-list/', '/news-releases/health-latest-news/supplementary-medicine-list/', '/news-releases/health-latest-news/', '/news-releases/sports-latest-news/', '/news-releases/sports-latest-news/sports-latest-news-list/', '/news-releases/sports-latest-news/general-sports-list/', '/news-releases/sports-latest-news/outdoors-camping-hiking-list/', '/news-releases/sports-latest-news/sporting-events-list/', '/news-releases/sports-latest-news/sports-equipment-accessories-list/', '/news-releases/sports-latest-news/', '/news-releases/travel-latest-news/', '/news-releases/travel-latest-news/travel-latest-news-list/', '/news-releases/travel-latest-news/amusement-parks-and-tourist-attractions-list/', '/news-releases/travel-latest-news/gambling-casinos-list/', '/news-releases/travel-latest-news/hotels-and-resorts-list/', '/news-releases/travel-latest-news/leisure-tourism-list/', '/news-releases/travel-latest-news/outdoors-camping-hiking-list/', '/news-releases/travel-latest-news/passenger-aviation-list/', '/news-releases/travel-latest-news/travel-industry-list/', '/news-releases/travel-latest-news/', None, '/news-releases/policy-public-interest-latest-news/', '/news-releases/policy-public-interest-latest-news/policy-public-interest-latest-news-list/', '/news-releases/policy-public-interest-latest-news/advocacy-group-opinion-list/', '/news-releases/policy-public-interest-latest-news/animal-welfare-list/', '/news-releases/policy-public-interest-latest-news/congressional-presidential-campaigns-list/', '/news-releases/policy-public-interest-latest-news/corporate-social-responsibility-list/', '/news-releases/policy-public-interest-latest-news/domestic-policy-list/', '/news-releases/policy-public-interest-latest-news/economic-news-trends-analysis-list/', '/news-releases/policy-public-interest-latest-news/education-list/', '/news-releases/policy-public-interest-latest-news/environmental-list/', '/news-releases/policy-public-interest-latest-news/european-government-list/', '/news-releases/policy-public-interest-latest-news/fda-approval-list/', '/news-releases/policy-public-interest-latest-news/federal-and-state-legislation-list/', '/news-releases/policy-public-interest-latest-news/federal-executive-branch-agency-news-list/', '/news-releases/policy-public-interest-latest-news/foreign-policy-international-affairs-list/', '/news-releases/policy-public-interest-latest-news/homeland-security-list/', '/news-releases/policy-public-interest-latest-news/labor-union-news-list/', '/news-releases/policy-public-interest-latest-news/legal-issues-list/', '/news-releases/policy-public-interest-latest-news/natural-disasters-list/', '/news-releases/policy-public-interest-latest-news/not-for-profit-list/', '/news-releases/policy-public-interest-latest-news/patent-law-list/', '/news-releases/policy-public-interest-latest-news/public-safety-list/', '/news-releases/policy-public-interest-latest-news/trade-policy-list/', '/news-releases/policy-public-interest-latest-news/us-state-policy-news-list/', '/news-releases/policy-public-interest-latest-news/', None, '/news-releases/multicultural-latest-news/', '/news-releases/multicultural-latest-news/multicultural-latest-news-list/', '/news-releases/multicultural-latest-news/native-american-list/', '/news-releases/multicultural-latest-news/african-american-related-news-list/', '/news-releases/multicultural-latest-news/asian-related-news-list/', '/news-releases/multicultural-latest-news/children-related-news-list/', '/news-releases/multicultural-latest-news/hispanic-oriented-news-list/', '/news-releases/multicultural-latest-news/lesbian-gay-bisexual-list/', '/news-releases/multicultural-latest-news/mens-interest-list/', '/news-releases/multicultural-latest-news/people-with-disabilities-list/', '/news-releases/multicultural-latest-news/religion-list/', '/news-releases/multicultural-latest-news/senior-citizens-list/', '/news-releases/multicultural-latest-news/veterans-list/', '/news-releases/multicultural-latest-news/women-related-news-list/', '/news-releases/multicultural-latest-news/', '/comunicados-de-prensa/', '/comunicados-para-a-imprensa/', '/cs/tiskova-zprava/', '/da/pressemeddelelser/', '/de/pressemitteilungen/', '/es/comunicados-de-prensa/', '/fr/communiques-de-presse/', '/it/comunicati-stampa/', '/nl/persberichten/', '/no/pressemeldinger/', '/pl/komunikat-prasowy/', '/pt/comunicados-de-imprensa/', '/ru/press-releases/', '/sk/tlacova-sprava/', '/fi/lehdistotiedotteet/', '/sv/pressmeddelanden/', '/products/overview/', '/products/content-distribution/', '/products/communications-cloud/', '/products/ir-compliance/', '/products/all-products/', '/contact-us/#general', '/request-a-demo/', '/contact-us/#editorial', '/contact-us/#partnerships', '/contact-us/#media', '/contact-us/#worldwide', '#nav-mobile', '/', 'https://portal.prnewswire.com', '/contact-us/', 'javascript:void(0)', '/contact-us/', '/contact-us/', 'tel:+1-888-776-0942', 'javascript:void(0)', '#', 'https://portal.prnewswire.com/', 'https://www.prnewswire.com/account/OnlineMembershipFormStep1/', 'https://portal.prnewswire.com/', '/resources/', 'https://www.cision.com/us/blog/', 'https://prnmedia.prnewswire.com/', '/rss/', 'https://gdpr.cision.com', 'https://twitter.com/PRNewswire', 'https://www.facebook.com/pages/PR-Newswire/26247320522', 'https://www.linkedin.com/company/pr-newswire/', '/news-releases/', '/news-releases/', '/news-releases/multimedia/', '/news-releases/latest-news-topics/', 'https://portal.prnewswire.com/', 'https://www.prnewswire.com/account/OnlineMembershipFormStep1/', 'https://portal.prnewswire.com/', '/resources/', 'https://www.cision.com/us/blog/', 'https://prnmedia.prnewswire.com/', '/rss/', 'https://gdpr.cision.com', 'https://twitter.com/PRNewswire', 'https://www.facebook.com/pages/PR-Newswire/26247320522', 'https://www.linkedin.com/company/pr-newswire/', '/news-releases/automotive-transportation-latest-news/', '/news-releases/business-technology-latest-news/', '/news-releases/entertainment-media-latest-news/', '/news-releases/financial-services-latest-news/', '/news-releases/general-business-latest-news/', 'https://portal.prnewswire.com/', 'https://www.prnewswire.com/account/OnlineMembershipFormStep1/', 'https://portal.prnewswire.com/', '/resources/', 'https://www.cision.com/us/blog/', 'https://prnmedia.prnewswire.com/', '/rss/', 'https://gdpr.cision.com', 'https://twitter.com/PRNewswire', 'https://www.facebook.com/pages/PR-Newswire/26247320522', 'https://www.linkedin.com/company/pr-newswire/', '/news-releases/consumer-technology-latest-news/', '/news-releases/energy-latest-news/', '/news-releases/environment-latest-news/', '/news-releases/heavy-industry-manufacturing-latest-news/', '/news-releases/telecommunications-latest-news/', 'https://portal.prnewswire.com/', 'https://www.prnewswire.com/account/OnlineMembershipFormStep1/', 'https://portal.prnewswire.com/', '/resources/', 'https://www.cision.com/us/blog/', 'https://prnmedia.prnewswire.com/', '/rss/', 'https://gdpr.cision.com', 'https://twitter.com/PRNewswire', 'https://www.facebook.com/pages/PR-Newswire/26247320522', 'https://www.linkedin.com/company/pr-newswire/', '/news-releases/consumer-products-retail-latest-news/', '/news-releases/entertainment-media-latest-news/', '/news-releases/health-latest-news/', '/news-releases/sports-latest-news/', '/news-releases/travel-latest-news/', 'https://portal.prnewswire.com/', 'https://www.prnewswire.com/account/OnlineMembershipFormStep1/', 'https://portal.prnewswire.com/', '/resources/', 'https://www.cision.com/us/blog/', 'https://prnmedia.prnewswire.com/', '/rss/', 'https://gdpr.cision.com', 'https://twitter.com/PRNewswire', 'https://www.facebook.com/pages/PR-Newswire/26247320522', 'https://www.linkedin.com/company/pr-newswire/', 'https://portal.prnewswire.com/', 'https://www.prnewswire.com/account/OnlineMembershipFormStep1/', 'https://portal.prnewswire.com/', '/resources/', 'https://www.cision.com/us/blog/', 'https://prnmedia.prnewswire.com/', '/rss/', 'https://gdpr.cision.com', 'https://twitter.com/PRNewswire', 'https://www.facebook.com/pages/PR-Newswire/26247320522', 'https://www.linkedin.com/company/pr-newswire/', '/news-releases/multicultural-latest-news/', 'https://portal.prnewswire.com/', 'https://www.prnewswire.com/account/OnlineMembershipFormStep1/', 'https://portal.prnewswire.com/', '/resources/', 'https://www.cision.com/us/blog/', 'https://prnmedia.prnewswire.com/', '/rss/', 'https://gdpr.cision.com', 'https://twitter.com/PRNewswire', 'https://www.facebook.com/pages/PR-Newswire/26247320522', 'https://www.linkedin.com/company/pr-newswire/', 'https://portal.prnewswire.com/', 'https://www.prnewswire.com/account/OnlineMembershipFormStep1/', 'https://portal.prnewswire.com/', '/resources/', 'https://www.cision.com/us/blog/', 'https://prnmedia.prnewswire.com/', '/rss/', 'https://gdpr.cision.com', 'https://twitter.com/PRNewswire', 'https://www.facebook.com/pages/PR-Newswire/26247320522', 'https://www.linkedin.com/company/pr-newswire/', '/products/overview/', '/products/content-distribution/', '/products/communications-cloud/', '/products/ir-compliance/', '/products/all-products/', 'https://portal.prnewswire.com/', 'https://www.prnewswire.com/account/OnlineMembershipFormStep1/', 'https://portal.prnewswire.com/', '/resources/', 'https://www.cision.com/us/blog/', 'https://prnmedia.prnewswire.com/', '/rss/', 'https://gdpr.cision.com', 'https://twitter.com/PRNewswire', 'https://www.facebook.com/pages/PR-Newswire/26247320522', 'https://www.linkedin.com/company/pr-newswire/', '/contact-us/#general', '/request-a-demo/', '/contact-us/#editorial', '/contact-us/#partnerships', '/contact-us/#media', '/contact-us/#worldwide', 'https://portal.prnewswire.com/', 'https://www.prnewswire.com/account/OnlineMembershipFormStep1/', 'https://portal.prnewswire.com/', '/resources/', 'https://www.cision.com/us/blog/', 'https://prnmedia.prnewswire.com/', '/rss/', 'https://gdpr.cision.com', 'https://twitter.com/PRNewswire', 'https://www.facebook.com/pages/PR-Newswire/26247320522', 'https://www.linkedin.com/company/pr-newswire/', '/news-releases/shareholder-alert-pomerantz-law-firm-investigates-claims-on-behalf-of-investors-of-boston-scientific-corporation---bsx-301176570.html', '/news-releases/camtek-announces-pricing-of-upsized-public-offering-of-ordinary-shares-301176580.html', '/news-releases/vaporesso-donates-over-70-million-rupiah-to-indonesians-affected-by-the-pandemic-301176578.html', '/news-releases/vaporesso-donates-over-70-million-rupiah-to-indonesians-affected-by-the-pandemic-301176578.html', '/news-releases/shareholder-alert-weisslaw-llp-reminds-gliba-and-ev-shareholders-about-its-ongoing-investigations-301176557.html', '/news-releases/shareholder-alert-weisslaw-llp-reminds-gliba-and-ev-shareholders-about-its-ongoing-investigations-301176557.html', '/news-releases/shareholder-alert-pomerantz-law-firm-investigates-claims-on-behalf-of-investors-of-livexlive-media-inc---livx-301176564.html', '/news-releases/peter-brown-joins-seaboard-foods-llc-as-president-and-chief-executive-officer-to-succeed-current-president-301176576.html', '/news-releases/mgic-integrates-with-mortgage-coach-on-online-borrower-conversion-platform-301176573.html', '/news-releases/las-vegas-sands-named-to-the-dow-jones-sustainability-world-index-for-the-first-time-301176572.html', '/news-releases/las-vegas-sands-named-to-the-dow-jones-sustainability-world-index-for-the-first-time-301176572.html', '/news-releases/shareholder-alert-weisslaw-llp-reminds-pe-ghiv-ccx-and-acam-shareholders-about-its-ongoing-investigations-301176549.html', '/news-releases/shareholder-alert-weisslaw-llp-reminds-pe-ghiv-ccx-and-acam-shareholders-about-its-ongoing-investigations-301176549.html', '/news-releases/asc40-tvb-2640-phase-2-nash-trial-completed-patient-enrollment-in-china-301176538.html', '/news-releases/jiya-acquisition-corp-announces-pricing-of-100-million-initial-public-offering-301176571.html', '/news-releases/jiya-acquisition-corp-announces-pricing-of-100-million-initial-public-offering-301176571.html', '/news-releases/male-contraceptive-initiative-invests-1-million-in-contraline-to-conduct-clinical-trial-for-long-lasting-non-hormonal-male-contraceptive-301176536.html', '/news-releases/ballys-corporation-to-acquire-premier-us-regulated-sportsbook-technology-platform-betworks-301176566.html', '/news-releases/ballys-corporation-to-acquire-premier-us-regulated-sportsbook-technology-platform-betworks-301176566.html', '/news-releases/shareholder-alert-weisslaw-llp-investigates-ciig-merger-corp-301176552.html', '/news-releases/shareholder-alert-weisslaw-llp-investigates-ciig-merger-corp-301176552.html', '/news-releases/parallel-wireless-s-associe-a-vodafone-ireland-afin-de-concretiser-leurs-visions-a-l-egard-des-solutions-relatives-au-reseau-d-acces-radioelectrique-ouvert-821336397.html', '/news-releases/parallel-wireless-s-associe-a-vodafone-ireland-afin-de-concretiser-leurs-visions-a-l-egard-des-solutions-relatives-au-reseau-d-acces-radioelectrique-ouvert-821336397.html', '/news-releases/parallel-wireless-se-asocia-con-vodafone-ireland-para-entregar-su-vision-open-ran-892541156.html', '/news-releases/parallel-wireless-se-asocia-con-vodafone-ireland-para-entregar-su-vision-open-ran-892541156.html', '/news-releases/parallele-wireless-geht-partnerschaft-mit-vodafone-irland-ein-um-gemeinsame-open-ran-vision-zu-verwirklichen-896669675.html', '/news-releases/parallele-wireless-geht-partnerschaft-mit-vodafone-irland-ein-um-gemeinsame-open-ran-vision-zu-verwirklichen-896669675.html', '/news-releases/rosen-top-ranked-national-investor-attorneys-reminds-loop-industries-inc-investors-of-important-deadline-in-securities-class-action-encourages-investors-with-losses-in-excess-of-100k-to-contact-the-firm--loop-301176512.html', '/news-releases/rosen-top-ranked-national-investor-attorneys-reminds-loop-industries-inc-investors-of-important-deadline-in-securities-class-action-encourages-investors-with-losses-in-excess-of-100k-to-contact-the-firm--loop-301176512.html', '/news-releases/parallel-wireless-se-une-a-vodafone-irlanda-para-cumplir-con-su-vision-de-open-ran-806173559.html', '/news-releases/parallel-wireless-se-une-a-vodafone-irlanda-para-cumplir-con-su-vision-de-open-ran-806173559.html', '/news-releases/a-parallel-wireless-faz-parceria-com-a-vodafone-ireland-para-cumprir-sua-visao-open-ran-814124043.html', '/news-releases/a-parallel-wireless-faz-parceria-com-a-vodafone-ireland-para-cumprir-sua-visao-open-ran-814124043.html', '/news-releases/parallel-wireless-partners-with-vodafone-ireland-to-deliver-on-their-open-ran-vision-301171975.html', '/news-releases/parallel-wireless-partners-with-vodafone-ireland-to-deliver-on-their-open-ran-vision-301171975.html', '/news-releases/in-the-lab-st-jude-scientists-identify-possible-covid-19-treatment-301176562.html', '/news-releases/in-the-lab-st-jude-scientists-identify-possible-covid-19-treatment-301176562.html', '/news-releases/gol-anuncia-atualizacao-mensal-ao-investidor-capacidade-consumo-de-caixa-879393622.html', '/news-releases/gol-announces-monthly-investor-update-capacity-cash-consumption-and-liquidity-301176559.html', '/news-releases/age-with-style-and-grace-301176523.html', '/news-releases/age-with-style-and-grace-301176523.html', 'https://prnmedia.prnewswire.com/', 'https://profnet.prnewswire.com/ProfNetHome/Journalist-query.aspx', 'https://prnmedia.prnewswire.com/', None, '/news-releases/news-releases-list/?page=1&pagesize=25', '/news-releases/news-releases-list/?page=2&pagesize=25', '/news-releases/news-releases-list/?page=3&pagesize=25', '/news-releases/news-releases-list/?page=4&pagesize=25', '/news-releases/news-releases-list/?page=5&pagesize=25', '/news-releases/news-releases-list/?page=2&pagesize=25', 'tel:Cision%20Distribution%20888-776-0942', 'javascript://Chat', '/contact-us/#general', '/request-a-demo/', '/contact-us/#editorial', '/contact-us/#partnerships', '/contact-us/#media', '/contact-us/#worldwide', 'https://twitter.com/PRNewswire', 'https://www.facebook.com/PR-Newswire-26247320522/', 'https://www.linkedin.com/company/pr-newswire/', '/products/communications-cloud.html', '/products/marketing.html', '/products/public-relations.html', '/products/ir-compliance.html', '/products/agency.html', 'https://www.smallbusinesspr.com/request_information', '/products/all-products.html', 'https://prnewswire.mediaroom.com/index.php', 'https://www.cision.com/us/?utm_medium=website&utm_source=prnewswire&utm_content=cishomepage&utm_campaign=prnewswire', '/contact-us/prnewswire-partners', '/contact-us/become-a-partner/', 'https://www.cision.com/careers/', 'https://www.cision.com/us/covid-19-resources/', 'https://www.prnasia.com/', 'https://prnewswire.com.br/', 'https://www.newswire.ca/', '/cs/tiskova-zprava/', '/da/pressemeddelelser/', '/fi/lehdistotiedotteet/', '/fr/communiques-de-presse/', '/de/pressemitteilungen/', '/in/news-releases/', '/il/news-releases/', '/it/comunicati-stampa/', 'https://prnewswire.com.mx/', '/ae/news-releases/', '/nl/persberichten/', '/no/pressemeldinger/', '/pl/komunikat-prasowy/', '/pt/comunicados-de-imprensa/', '/ru/press-releases/', '/sk/tlacova-sprava/', '/es/comunicados-de-prensa/', '/sv/pressmeddelanden/', 'https://www.prnewswire.co.uk/', '/news-releases/', 'https://portal.prnewswire.com/Login.aspx', 'https://profnet.prnewswire.com/ProfNetHome/What-is-Profnet.aspx', '', '/news-releases', 'https://portal.prnewswire.com/Login.aspx', None, 'tel:Cision%20Distribution%20Helpline', '/terms-of-use/', '/privacy-policy/', '/prn-information-security-policy/', '/sitemap/', '/rss/', '/cookie-settings/', 'https://www.cision.com/us/?utm_medium=website&utm_source=prnewswire&utm_content=cishomepage&utm_campaign=prnewswire', 'javascript://Chat']\n"
     ]
    }
   ],
   "source": [
    "urls = []\n",
    "for lnk in doc.findall('.//a'):\n",
    "    urls.append(lnk.get('href'))\n",
    "print(urls)"
   ]
  },
  {
   "cell_type": "code",
   "execution_count": 5,
   "metadata": {},
   "outputs": [
    {
     "data": {
      "text/plain": [
       "['https://www.cision.com/us/blog/',\n",
       " 'https://prnmedia.prnewswire.com/',\n",
       " 'https://portal.prnewswire.com/Login.aspx',\n",
       " 'https://www.prnewswire.com/account/online-membership-form/',\n",
       " 'https://gdpr.cision.com/',\n",
       " 'https://portal.prnewswire.com/Login.aspx',\n",
       " '/',\n",
       " '/news-releases/',\n",
       " '/products/overview.html',\n",
       " '/products/overview/',\n",
       " '/products/content-distribution/',\n",
       " '/products/communications-cloud/',\n",
       " '/products/ir-compliance/',\n",
       " '/products/all-products/',\n",
       " '/contact-us/',\n",
       " '/contact-us/#general',\n",
       " '/request-a-demo/',\n",
       " '/contact-us/#editorial',\n",
       " '/contact-us/#partnerships',\n",
       " '/contact-us/#media',\n",
       " '/contact-us/#worldwide',\n",
       " None,\n",
       " '/news-releases/',\n",
       " '/news-releases/news-releases-list/',\n",
       " '/news-releases/all-public-company-news/',\n",
       " '/news-releases/english-releases/',\n",
       " '/news-releases/',\n",
       " '/news-releases/multimedia/',\n",
       " '/news-releases/multimedia/multimedia-list/',\n",
       " '/news-releases/photos/photos-list/',\n",
       " '/news-releases/videos/videos-list/',\n",
       " '/news-releases/multimedia/',\n",
       " '/news-releases/latest-news-topics/',\n",
       " '/news-releases/latest-news-topics/',\n",
       " None,\n",
       " '/news-releases/automotive-transportation-latest-news/',\n",
       " '/news-releases/automotive-transportation-latest-news/automotive-transportation-latest-news-list/',\n",
       " '/news-releases/automotive-transportation-latest-news/aerospace-defense-list/',\n",
       " '/news-releases/automotive-transportation-latest-news/air-freight-list/',\n",
       " '/news-releases/automotive-transportation-latest-news/airlines-aviation-list/',\n",
       " '/news-releases/automotive-transportation-latest-news/automotive-list/',\n",
       " '/news-releases/automotive-transportation-latest-news/maritime-shipbuilding-list/',\n",
       " '/news-releases/automotive-transportation-latest-news/railroads-and-intermodal-transportation-list/',\n",
       " '/news-releases/automotive-transportation-latest-news/supply-chain-logistics-list/',\n",
       " '/news-releases/automotive-transportation-latest-news/transportation-trucking-railroad-list/',\n",
       " '/news-releases/automotive-transportation-latest-news/travel-list/',\n",
       " '/news-releases/automotive-transportation-latest-news/trucking-and-road-transportation-list/',\n",
       " '/news-releases/automotive-transportation-latest-news/',\n",
       " '/news-releases/business-technology-latest-news/']"
      ]
     },
     "execution_count": 5,
     "metadata": {},
     "output_type": "execute_result"
    }
   ],
   "source": [
    "urls = [lnk.get('href') for lnk in doc.findall('.//a')]\n",
    "urls[1:50]\n"
   ]
  },
  {
   "cell_type": "code",
   "execution_count": 7,
   "metadata": {},
   "outputs": [],
   "source": [
    "tables = doc.findall('.//table')\n"
   ]
  },
  {
   "cell_type": "code",
   "execution_count": 25,
   "metadata": {},
   "outputs": [
    {
     "data": {
      "text/plain": [
       "list"
      ]
     },
     "execution_count": 25,
     "metadata": {},
     "output_type": "execute_result"
    }
   ],
   "source": [
    "type(tables)"
   ]
  },
  {
   "cell_type": "code",
   "execution_count": 27,
   "metadata": {},
   "outputs": [],
   "source": [
    "def _unpack(row, kind='td'):\n",
    "    elts = row.findall('.//%s' % kind)\n",
    "    return [val.text_content() for val in elts]"
   ]
  },
  {
   "cell_type": "code",
   "execution_count": 28,
   "metadata": {},
   "outputs": [],
   "source": [
    "from pandas.io.parsers import TextParser\n",
    "def parse_options_data(table):\n",
    "    rows = table.findall('.//tr')\n",
    "    header = _unpack(rows[0], kind='th')\n",
    "    data = [_unpack(r) for r in rows[1:]]\n",
    "    return TextParser(data, names=header).get_chunk()"
   ]
  },
  {
   "cell_type": "code",
   "execution_count": null,
   "metadata": {},
   "outputs": [],
   "source": []
  }
 ],
 "metadata": {
  "kernelspec": {
   "display_name": "Python 3",
   "language": "python",
   "name": "python3"
  },
  "language_info": {
   "codemirror_mode": {
    "name": "ipython",
    "version": 3
   },
   "file_extension": ".py",
   "mimetype": "text/x-python",
   "name": "python",
   "nbconvert_exporter": "python",
   "pygments_lexer": "ipython3",
   "version": "3.7.6"
  }
 },
 "nbformat": 4,
 "nbformat_minor": 4
}
